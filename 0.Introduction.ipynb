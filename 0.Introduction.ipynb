{
 "cells": [
  {
   "cell_type": "markdown",
   "id": "4f8c2a66",
   "metadata": {},
   "source": [
    "# 操作系统基本概念"
   ]
  },
  {
   "cell_type": "markdown",
   "id": "6d87f887",
   "metadata": {},
   "source": [
    "## 为什么要有操作系统\n",
    "如果没有操作系统，每个应用程序需要直接调用硬件设备，此时需要有OS lib作为统一的interface，让每个应用进程以单独调用lib的方式来使用硬件。就像python调用python库一样。\\\n",
    "<font color=green>**问题：无法在实现multiplexing的同时实现(memory) isolation**</font>\n",
    "1. <font color=blue>无法实现multiplexing</font>: \\\n",
    "此时所有的硬件资源没有一个独立的第三方管理者。每个进程都调用自己的OS lib来与硬件交互，要实现multiplexing就需要应用程序自己的管理机制能够周期性地放弃硬件使用权，或者有一个app之间的cooprative schedule。但这会导致：\\\n",
    "(1) app忘记放弃硬件使用权，别的app无法运行 \\\n",
    "(2) app在放弃硬件使用权之前陷入死循环，导致别的app无法运行 \\\n",
    "(3) 当app的运行出现问题后，甚至无法通过别的app将其关闭\n",
    "2. <font color=blue>无法实现memory isolation，这也会导致无法实现multiplexing</font>：\\\n",
    "即使通过cooperative schedule的方式实现了multiplexing，由于所有app共享物理内存，一个app可能覆盖其他app的memory，甚至覆盖掉操作系统的memory。要实现memory isolation，就要有一个分配管理内存的工具。\n",
    "\n",
    "<font color=red>**所以，为了实现multiplexing，需要同时做到CPU isolation和memory isolation。此时，需要一个独立的第三方工具来管理CPU和memory等资源的分配。**</font>"
   ]
  },
  {
   "cell_type": "markdown",
   "id": "78a2478b",
   "metadata": {},
   "source": [
    "## 操作系统的基本功能和实现方式：\n",
    "**· 2方面基本功能：**<font color=blue>**resource manager + API(standard library)** </font> \\\n",
    "面向硬件，有一套管理硬件资源的规则机制；\\\n",
    "面向program(or user)，通过system call作为统一接口使用系统资源，并且让系统easy-to-use。\n",
    "\n",
    "**· 实现方式：**<font color=orange>**Virtual machine**</font>  \\\n",
    "通过virtualization实现multiplexing和isolation。\n"
   ]
  },
  {
   "cell_type": "markdown",
   "id": "76a9f5b7",
   "metadata": {},
   "source": [
    "### 1. OS需要实现的功能目标：作为系统资源管理器，让系统正确、高效、安全工作，且easy-to-use\n",
    "1. 管理硬件资源，运行不同的application，让系统<font color=green>**正确**</font>工作。\n",
    "2. 让系统<font color=green>**高效**</font>工作，实现多应用的multiplex，并减少Virtualization等设计带来的overhead。\n",
    "3. 让系统<font color=green>**安全**</font>工作，实现应用之间的isolation。\n",
    "4. 让系统<font color=green>**easy-to-use**</font>，通过abstraction，提供便利的接口，使用户不用关心底层特征。"
   ]
  },
  {
   "cell_type": "markdown",
   "id": "3778da2f",
   "metadata": {},
   "source": [
    "### 2. 用户/应用程序使用OS的方式：OS提供API作为interface\n",
    "通过OS提供的接口，也就是system call调用系统提供的功能。"
   ]
  },
  {
   "cell_type": "markdown",
   "id": "0df66a6d",
   "metadata": {},
   "source": [
    "### 3. 实现功能目标的方式：Virtualization\n",
    "1. Unix系统的设计思路：用interface来抽象硬件资源，并且抽象的方式非常便于实现multiplexing和memory isolation。\n",
    "2. Unix中的典型抽象方式：\\\n",
    "(1) process <=> CPU: OS给进程分配CPU cores，同时也强制进程周期性地放弃CPU使用权。 \\\n",
    "(2) exec <=> memory: OS给进程分配memory，并实现不同进程之间的memory isolation。 \\\n",
    "(3) files <=> I/O设备，如Disk blocks: 通过OS的read/write files interface实现在disk上的读写操作，OS还提供了name files的接口，以及在process和user之间共享files的接口。 \\\n",
    "(4) pipes <=> shared memory: "
   ]
  },
  {
   "cell_type": "markdown",
   "id": "9c95e026",
   "metadata": {},
   "source": [
    "## OS实现安全性需要的硬件支持\n",
    "1. 安全性的基本要求： \\\n",
    "(1) an application不能crash OS。crash OS会使得其他应用程序也无法正常工作。 \\\n",
    "(2) an application不能打破isolation。不然恶意进程就可以对系统发起攻击，比如恶意改变文件内容。 \\\n",
    "<font color=red>**因此，在app和OS之间，app之间都要有strong isolation。**</font>\n",
    "2. **实现方式：靠硬件支持** \\\n",
    "所有支持multiplexing的处理器都有两类设计：user/kernel mode和Virtual memory。\\\n",
    "(1) <font color=blue>**user/kernel mode**</font> \\\n",
    "OS在kernel mode中运行，能执行privileged instructions。user app在user mode中运行，不能执行privileged instructions。由此控制应用程序能实现的功能范围。\\\n",
    "(2) <font color=blue>**virtual memory**</font> \\\n",
    "processor提供page table把物理内存映射到Virtual address上。OS设置page table来决定进程可以access哪些内存。每个进程都有自己独立的page table，只能access到自己page table上映射到的物理地址，由此实现memory isolation。\n",
    "3. 实现user/kernel mode需要在user mode和kernel mode之间设计control transfer机制 \\\n",
    "(1) **controled way of entering the kernel**: 应用程序进程需要kernel提供服务的时候，可以invoke system call，每个system call都有enter kernel的方法，在risc-v中是ecall指令。 \\\n",
    "<font color=green>**指令说明**: ecall \\<n> # 每个system call都有对应的number，这里n用于指定需要invoke的system call的number</font> \\\n",
    "**eg**:应用程序调用操作系统提供的fork()函数，fork()执行ecall \\<sys_fork number>。执行ecall的时候，会进入kernel mode，在kernel mode中先确认该应用程序是否有执行权限，如果有，就执行真正的privileged instruction ‘fork()’。 \\\n",
    "<font color=green>**注：kernel要验证应用程序是否有执行权限。**</font>比如ecall invoke write指令后，kernel要看write的argument，也就是address是否在该app的page table上，且有write权限。 \\\n",
    "(2) kernel还有timer机制。每个app使用cpu的时间都有限制，如果超过timer设定的时长，kernel会夺回app使用cpu的权利，重新分配。"
   ]
  },
  {
   "cell_type": "markdown",
   "id": "180a525e",
   "metadata": {},
   "source": [
    "4. kernel应该是trusted computing base(TCB) \\\n",
    "从对kernel的能力需求上看，它应该具备的特点有：\\\n",
    "(1) kernel must be 'correct' \\\n",
    "在实践中，kernel功能越强大，代码越多，不太可能完全没有bug。但是要尽量做到最少的bug。 \\\n",
    "(2) kernel must treat user apps as suspect \\\n",
    "kernel需要小心地check arguments；设置当前状态是user/kernel mode；等等。 \\\n",
    "(3) kernel should in charge of apps \\\n",
    "确保apps之间的isolation。\\\n",
    "<font color=red>对kernel的TCB需求引发了一个问题：哪些东西应该在kernel mode中运行。</font>"
   ]
  },
  {
   "cell_type": "markdown",
   "id": "e0108407",
   "metadata": {},
   "source": [
    "5. Monolithic kernel vs. Microkernel \\\n",
    "(1) 整个OS都在kernel mode下运行，如：Linux，XV6，Unix。 \\\n",
    "<font color=green>优点：</font> 函数都整合在kernel里面，system cooperate好，file system和virtual memory可以共享一个cache。不用在kernel内和kernel外来回切换，没有切换带来的效率损失，所有performance好。 \\\n",
    "<font color=red>缺点：</font> kernel功能多，代码多，潜在bug也多。 \\\n",
    "(2) 只有部分OS功能在kernel mode下运行，如很多嵌入式系统。\\\n",
    "<font color=green>优点：</font> bug少。 \\\n",
    "<font color=red>缺点：</font> 很多功能都不在kernel中实现，kernel要频繁切换到user mode来实现功能。导致performance降低。"
   ]
  },
  {
   "cell_type": "markdown",
   "id": "f5c4f52c",
   "metadata": {},
   "source": []
  },
  {
   "cell_type": "markdown",
   "id": "10a977db",
   "metadata": {},
   "source": []
  },
  {
   "cell_type": "markdown",
   "id": "292669d4",
   "metadata": {},
   "source": []
  },
  {
   "cell_type": "markdown",
   "id": "dec53d57",
   "metadata": {},
   "source": []
  },
  {
   "cell_type": "markdown",
   "id": "0cbbc6c7",
   "metadata": {},
   "source": []
  },
  {
   "cell_type": "markdown",
   "id": "ac89f676",
   "metadata": {},
   "source": []
  }
 ],
 "metadata": {
  "kernelspec": {
   "display_name": "Python 3 (ipykernel)",
   "language": "python",
   "name": "python3"
  },
  "language_info": {
   "codemirror_mode": {
    "name": "ipython",
    "version": 3
   },
   "file_extension": ".py",
   "mimetype": "text/x-python",
   "name": "python",
   "nbconvert_exporter": "python",
   "pygments_lexer": "ipython3",
   "version": "3.10.14"
  }
 },
 "nbformat": 4,
 "nbformat_minor": 5
}
